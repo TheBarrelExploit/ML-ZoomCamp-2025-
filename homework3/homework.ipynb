{
 "cells": [
  {
   "cell_type": "code",
   "execution_count": 1,
   "id": "ac227a81-fe1d-4ab2-9a81-0e680e15abca",
   "metadata": {},
   "outputs": [],
   "source": [
    "import pandas as pd\n",
    "import numpy as np\n",
    "import matplotlib.pyplot as plt\n",
    "import seaborn as sns\n",
    "from sklearn.model_selection import train_test_split\n",
    "from sklearn.linear_model import LogisticRegression\n",
    "from sklearn.metrics import accuracy_score, mutual_info_score\n",
    "from sklearn.feature_extraction import DictVectorizer\n",
    "import warnings\n",
    "warnings.filterwarnings('ignore')"
   ]
  },
  {
   "cell_type": "code",
   "execution_count": 2,
   "id": "b0bab2eb-3ac9-40de-96d8-cd0e6ebc13e5",
   "metadata": {},
   "outputs": [],
   "source": [
    "df = pd.read_csv('https://raw.githubusercontent.com/alexeygrigorev/datasets/master/course_lead_scoring.csv')"
   ]
  },
  {
   "cell_type": "code",
   "execution_count": 3,
   "id": "50b23dd9-243d-4852-8fef-90fc8887a926",
   "metadata": {},
   "outputs": [
    {
     "name": "stdout",
     "output_type": "stream",
     "text": [
      "Información del dataset:\n",
      "<class 'pandas.core.frame.DataFrame'>\n",
      "RangeIndex: 1462 entries, 0 to 1461\n",
      "Data columns (total 9 columns):\n",
      " #   Column                    Non-Null Count  Dtype  \n",
      "---  ------                    --------------  -----  \n",
      " 0   lead_source               1334 non-null   object \n",
      " 1   industry                  1328 non-null   object \n",
      " 2   number_of_courses_viewed  1462 non-null   int64  \n",
      " 3   annual_income             1281 non-null   float64\n",
      " 4   employment_status         1362 non-null   object \n",
      " 5   location                  1399 non-null   object \n",
      " 6   interaction_count         1462 non-null   int64  \n",
      " 7   lead_score                1462 non-null   float64\n",
      " 8   converted                 1462 non-null   int64  \n",
      "dtypes: float64(2), int64(3), object(4)\n",
      "memory usage: 102.9+ KB\n",
      "None\n",
      "\n",
      "================================================================================\n",
      "Valores faltantes por columna:\n",
      "lead_source                 128\n",
      "industry                    134\n",
      "number_of_courses_viewed      0\n",
      "annual_income               181\n",
      "employment_status           100\n",
      "location                     63\n",
      "interaction_count             0\n",
      "lead_score                    0\n",
      "converted                     0\n",
      "dtype: int64\n",
      "\n",
      "================================================================================\n",
      "Tipos de datos:\n",
      "lead_source                  object\n",
      "industry                     object\n",
      "number_of_courses_viewed      int64\n",
      "annual_income               float64\n",
      "employment_status            object\n",
      "location                     object\n",
      "interaction_count             int64\n",
      "lead_score                  float64\n",
      "converted                     int64\n",
      "dtype: object\n"
     ]
    }
   ],
   "source": [
    "print(\"Información del dataset:\")\n",
    "print(df.info())\n",
    "print(\"\\n\" + \"=\"*80)\n",
    "print(\"Valores faltantes por columna:\")\n",
    "print(df.isnull().sum())\n",
    "print(\"\\n\" + \"=\"*80)\n",
    "print(\"Tipos de datos:\")\n",
    "print(df.dtypes)"
   ]
  },
  {
   "cell_type": "code",
   "execution_count": 4,
   "id": "0ed96e39-a8ab-41ee-b987-2d38b7027d76",
   "metadata": {},
   "outputs": [
    {
     "name": "stdout",
     "output_type": "stream",
     "text": [
      "Columnas numéricas: ['number_of_courses_viewed', 'annual_income', 'interaction_count', 'lead_score']\n",
      "Columnas categóricas: ['lead_source', 'industry', 'employment_status', 'location']\n",
      "\n",
      "Valores faltantes después de limpiar:\n",
      "0\n"
     ]
    }
   ],
   "source": [
    "numerical_cols = df.select_dtypes(include=['int64', 'float64']).columns.tolist()\n",
    "categorical_cols = df.select_dtypes(include=['object']).columns.tolist()\n",
    "\n",
    "# Remover 'converted' de las listas si está presente\n",
    "if 'converted' in numerical_cols:\n",
    "    numerical_cols.remove('converted')\n",
    "if 'converted' in categorical_cols:\n",
    "    categorical_cols.remove('converted')\n",
    "\n",
    "print(f\"Columnas numéricas: {numerical_cols}\")\n",
    "print(f\"Columnas categóricas: {categorical_cols}\")\n",
    "\n",
    "# Llenar valores faltantes\n",
    "df_clean = df.copy()\n",
    "\n",
    "# Categóricas: llenar con 'NA'\n",
    "for col in categorical_cols:\n",
    "    df_clean[col] = df_clean[col].fillna('NA')\n",
    "\n",
    "# Numéricas: llenar con 0.0\n",
    "for col in numerical_cols:\n",
    "    df_clean[col] = df_clean[col].fillna(0.0)\n",
    "\n",
    "print(\"\\nValores faltantes después de limpiar:\")\n",
    "print(df_clean.isnull().sum().sum())"
   ]
  },
  {
   "cell_type": "markdown",
   "id": "0278b2c9-1ecf-4f08-a1ab-c75207e1150e",
   "metadata": {},
   "source": [
    "## What is the most frequent observation (mode) for the column industry?"
   ]
  },
  {
   "cell_type": "code",
   "execution_count": 17,
   "id": "1bc80129-6096-43ee-b5a8-e3620e3da5ec",
   "metadata": {},
   "outputs": [
    {
     "name": "stdout",
     "output_type": "stream",
     "text": [
      "\n",
      "Moda de 'industry': retail\n",
      "\n",
      "Frecuencias de 'industry':\n",
      "industry\n",
      "retail           203\n",
      "finance          200\n",
      "other            198\n",
      "healthcare       187\n",
      "education        187\n",
      "technology       179\n",
      "manufacturing    174\n",
      "NA               134\n",
      "Name: count, dtype: int64\n",
      "\n",
      "RESPUESTA PREGUNTA 1: retail\n"
     ]
    }
   ],
   "source": [
    "mode_industry = df_clean['industry'].mode()[0]\n",
    "print(f\"\\nModa de 'industry': {mode_industry}\")\n",
    "\n",
    "# Ver frecuencias\n",
    "print(f\"\\nFrecuencias de 'industry':\")\n",
    "print(df_clean['industry'].value_counts().head(10))\n",
    "\n",
    "print(f\"\\nRESPUESTA PREGUNTA 1: {mode_industry}\")"
   ]
  },
  {
   "cell_type": "markdown",
   "id": "155cfa53-d73b-48d2-a22b-1226b3ada104",
   "metadata": {},
   "source": [
    "## What are the two features that have the biggest correlation?"
   ]
  },
  {
   "cell_type": "code",
   "execution_count": 16,
   "id": "4b6a9649-d9f5-4bd0-baa6-74ed98ee0e1c",
   "metadata": {},
   "outputs": [
    {
     "name": "stdout",
     "output_type": "stream",
     "text": [
      "\n",
      "Matriz de correlación:\n",
      "                          number_of_courses_viewed  annual_income  \\\n",
      "number_of_courses_viewed                  1.000000       0.009770   \n",
      "annual_income                             0.009770       1.000000   \n",
      "interaction_count                        -0.023565       0.027036   \n",
      "lead_score                               -0.004879       0.015610   \n",
      "\n",
      "                          interaction_count  lead_score  \n",
      "number_of_courses_viewed          -0.023565   -0.004879  \n",
      "annual_income                      0.027036    0.015610  \n",
      "interaction_count                  1.000000    0.009888  \n",
      "lead_score                         0.009888    1.000000  \n"
     ]
    },
    {
     "data": {
      "image/png": "[encoded data removed]",
      "text/plain": [
       "<Figure size 1000x800 with 2 Axes>"
      ]
     },
     "metadata": {},
     "output_type": "display_data"
    },
    {
     "name": "stdout",
     "output_type": "stream",
     "text": [
      "\n",
      "Correlaciones de los pares mencionados:\n",
      "interaction_count vs lead_score: 0.0099\n",
      "number_of_courses_viewed vs lead_score: -0.0049\n",
      "number_of_courses_viewed vs interaction_count: -0.0236\n",
      "annual_income vs interaction_count: 0.0270\n",
      "\n",
      " RESPUESTA PREGUNTA 2: annual_income - interaction_count tiene la mayor correlación: 0.0270\n"
     ]
    }
   ],
   "source": [
    "# Crear matriz de correlación solo con variables numéricas\n",
    "correlation_matrix = df_clean[numerical_cols].corr()\n",
    "\n",
    "print(\"\\nMatriz de correlación:\")\n",
    "print(correlation_matrix)\n",
    "\n",
    "# Visualizar matriz de correlación\n",
    "plt.figure(figsize=(10, 8))\n",
    "sns.heatmap(correlation_matrix, annot=True, cmap='coolwarm', center=0, \n",
    "            square=True, linewidths=1)\n",
    "plt.title('Matriz de Correlación')\n",
    "plt.tight_layout()\n",
    "plt.show()\n",
    "\n",
    "# Verificar correlaciones específicas mencionadas en la pregunta\n",
    "pairs_to_check = [\n",
    "    ('interaction_count', 'lead_score'),\n",
    "    ('number_of_courses_viewed', 'lead_score'),\n",
    "    ('number_of_courses_viewed', 'interaction_count'),\n",
    "    ('annual_income', 'interaction_count')\n",
    "]\n",
    "\n",
    "print(\"\\nCorrelaciones de los pares mencionados:\")\n",
    "correlations = {}\n",
    "for feat1, feat2 in pairs_to_check:\n",
    "    if feat1 in correlation_matrix.columns and feat2 in correlation_matrix.columns:\n",
    "        corr_value = correlation_matrix.loc[feat1, feat2]\n",
    "        correlations[f\"{feat1} - {feat2}\"] = corr_value\n",
    "        print(f\"{feat1} vs {feat2}: {corr_value:.4f}\")\n",
    "\n",
    "# Encontrar la mayor correlación\n",
    "max_pair = max(correlations, key=correlations.get)\n",
    "max_corr = correlations[max_pair]\n",
    "\n",
    "print(f\"\\n RESPUESTA PREGUNTA 2: {max_pair} tiene la mayor correlación: {max_corr:.4f}\")"
   ]
  },
  {
   "cell_type": "markdown",
   "id": "034b31a6-9501-4e17-9e4e-dfb074dbc46a",
   "metadata": {},
   "source": [
    "## Split the data"
   ]
  },
  {
   "cell_type": "code",
   "execution_count": 8,
   "id": "b08ba048-f0aa-4699-a607-cc2b1daf4255",
   "metadata": {},
   "outputs": [
    {
     "name": "stdout",
     "output_type": "stream",
     "text": [
      "================================================================================\n",
      "DIVISIÓN DEL DATASET\n",
      "================================================================================\n",
      "\n",
      "Train set: 877 muestras (60.0%)\n",
      "Validation set: 292 muestras (20.0%)\n",
      "Test set: 293 muestras (20.0%)\n",
      "\n",
      "Distribución del target en train:\n",
      "converted\n",
      "1    0.610034\n",
      "0    0.389966\n",
      "Name: proportion, dtype: float64\n"
     ]
    }
   ],
   "source": [
    "# Separar features y target\n",
    "X = df_clean.drop('converted', axis=1)\n",
    "y = df_clean['converted']\n",
    "\n",
    "# Primera división: 60% train, 40% temp\n",
    "X_train_full, X_temp, y_train_full, y_temp = train_test_split(\n",
    "    X, y, test_size=0.4, random_state=42\n",
    ")\n",
    "\n",
    "# Segunda división: 20% val, 20% test (del 40% temp)\n",
    "X_val, X_test, y_val, y_test = train_test_split(\n",
    "    X_temp, y_temp, test_size=0.5, random_state=42\n",
    ")\n",
    "\n",
    "print(f\"\\nTrain set: {len(X_train_full)} muestras ({len(X_train_full)/len(X)*100:.1f}%)\")\n",
    "print(f\"Validation set: {len(X_val)} muestras ({len(X_val)/len(X)*100:.1f}%)\")\n",
    "print(f\"Test set: {len(X_test)} muestras ({len(X_test)/len(X)*100:.1f}%)\")\n",
    "\n",
    "print(f\"\\nDistribución del target en train:\")\n",
    "print(y_train_full.value_counts(normalize=True))"
   ]
  },
  {
   "cell_type": "markdown",
   "id": "c2751b7c-65fa-4821-b4f2-de6d6c87af6f",
   "metadata": {},
   "source": [
    "## Which of these variables has the biggest mutual information score?"
   ]
  },
  {
   "cell_type": "code",
   "execution_count": 18,
   "id": "a81f579d-4acb-46be-b33c-23635e65be21",
   "metadata": {},
   "outputs": [
    {
     "name": "stdout",
     "output_type": "stream",
     "text": [
      "\n",
      "Mutual Information Scores:\n",
      "lead_source              : 0.03\n",
      "industry                 : 0.02\n",
      "employment_status        : 0.02\n",
      "location                 : 0.00\n",
      "\n",
      "RESPUESTA PREGUNTA 3: lead_source tiene el mayor MI score: 0.03\n"
     ]
    }
   ],
   "source": [
    "# Calcular mutual information para variables categóricas\n",
    "mi_scores = {}\n",
    "\n",
    "for col in categorical_cols:\n",
    "    # Convertir a códigos numéricos para mutual_info_score\n",
    "    X_encoded = X_train_full[col].astype('category').cat.codes\n",
    "    mi = mutual_info_score(X_encoded, y_train_full)\n",
    "    mi_scores[col] = round(mi, 2)\n",
    "\n",
    "print(\"\\nMutual Information Scores:\")\n",
    "for col, score in sorted(mi_scores.items(), key=lambda x: x[1], reverse=True):\n",
    "    print(f\"{col:25s}: {score:.2f}\")\n",
    "\n",
    "# Encontrar la variable con mayor MI\n",
    "max_mi_var = max(mi_scores, key=mi_scores.get)\n",
    "max_mi_score = mi_scores[max_mi_var]\n",
    "\n",
    "print(f\"\\nRESPUESTA PREGUNTA 3: {max_mi_var} tiene el mayor MI score: {max_mi_score:.2f}\")"
   ]
  },
  {
   "cell_type": "markdown",
   "id": "cf240263-1872-47af-8a47-dc7ed41c299e",
   "metadata": {},
   "source": [
    "## What accuracy did you get?"
   ]
  },
  {
   "cell_type": "code",
   "execution_count": 11,
   "id": "2de2a571-009c-4f7b-8d44-c4d782c59d70",
   "metadata": {},
   "outputs": [
    {
     "name": "stdout",
     "output_type": "stream",
     "text": [
      "================================================================================\n",
      "PREGUNTA 4: Logistic Regression\n",
      "================================================================================\n",
      "\n",
      "Shape después de encoding:\n",
      "X_train: (877, 31)\n",
      "X_val: (292, 31)\n",
      "X_test: (293, 31)\n",
      "\n",
      "✓ RESPUESTA PREGUNTA 4: Accuracy en validación: 0.74\n"
     ]
    }
   ],
   "source": [
    "print(\"=\"*80)\n",
    "print(\"PREGUNTA 4: Logistic Regression\")\n",
    "print(\"=\"*80)\n",
    "\n",
    "# Preparar datos con DictVectorizer para one-hot encoding\n",
    "def prepare_X(df):\n",
    "    \"\"\"Convierte dataframe a diccionarios para DictVectorizer\"\"\"\n",
    "    df_dict = df.to_dict(orient='records')\n",
    "    return df_dict\n",
    "\n",
    "# Preparar datos\n",
    "train_dict = prepare_X(X_train_full)\n",
    "val_dict = prepare_X(X_val)\n",
    "test_dict = prepare_X(X_test)\n",
    "\n",
    "# Crear DictVectorizer y ajustar en train\n",
    "dv = DictVectorizer(sparse=False)\n",
    "X_train_encoded = dv.fit_transform(train_dict)\n",
    "X_val_encoded = dv.transform(val_dict)\n",
    "X_test_encoded = dv.transform(test_dict)\n",
    "\n",
    "print(f\"\\nShape después de encoding:\")\n",
    "print(f\"X_train: {X_train_encoded.shape}\")\n",
    "print(f\"X_val: {X_val_encoded.shape}\")\n",
    "print(f\"X_test: {X_test_encoded.shape}\")\n",
    "\n",
    "# Entrenar modelo\n",
    "model = LogisticRegression(solver='liblinear', C=1.0, max_iter=1000, random_state=42)\n",
    "model.fit(X_train_encoded, y_train_full)\n",
    "\n",
    "# Predecir y calcular accuracy\n",
    "y_val_pred = model.predict(X_val_encoded)\n",
    "accuracy_val = accuracy_score(y_val, y_val_pred)\n",
    "accuracy_val_rounded = round(accuracy_val, 2)\n",
    "\n",
    "print(f\"\\n✓ RESPUESTA PREGUNTA 4: Accuracy en validación: {accuracy_val_rounded}\")"
   ]
  },
  {
   "cell_type": "markdown",
   "id": "b245ce6c-aca5-4451-ad90-d77771a3ae98",
   "metadata": {},
   "source": [
    "## Which of following feature has the smallest difference?"
   ]
  },
  {
   "cell_type": "code",
   "execution_count": 15,
   "id": "b788a283-2901-460c-9dfc-1c957baefb19",
   "metadata": {},
   "outputs": [
    {
     "name": "stdout",
     "output_type": "stream",
     "text": [
      "\n",
      "Accuracy original (con todas las features): 0.743151\n",
      "\n",
      "Probando sin feature: industry\n",
      "  Accuracy sin 'industry': 0.743151\n",
      "  Diferencia: 0.000000\n",
      "\n",
      "Probando sin feature: employment_status\n",
      "  Accuracy sin 'employment_status': 0.746575\n",
      "  Diferencia: -0.003425\n",
      "\n",
      "Probando sin feature: lead_score\n",
      "  Accuracy sin 'lead_score': 0.743151\n",
      "  Diferencia: 0.000000\n",
      "\n",
      "================================================================================\n",
      "RESUMEN - Diferencias de accuracy:\n",
      "industry                 : 0.000000\n",
      "lead_score               : 0.000000\n",
      "employment_status        : -0.003425\n",
      "\n",
      "RESPUESTA PREGUNTA 5: industry tiene la menor diferencia: 0.000000\n"
     ]
    }
   ],
   "source": [
    "# Accuracy original (ya calculado en Q4)\n",
    "original_accuracy = accuracy_val\n",
    "\n",
    "print(f\"\\nAccuracy original (con todas las features): {original_accuracy:.6f}\")\n",
    "\n",
    "# Features a evaluar\n",
    "features_to_test = ['industry', 'employment_status', 'lead_score']\n",
    "\n",
    "# Diccionario para almacenar diferencias\n",
    "accuracy_differences = {}\n",
    "\n",
    "for feature in features_to_test:\n",
    "    print(f\"\\nProbando sin feature: {feature}\")\n",
    "    \n",
    "    # Crear datasets sin la feature\n",
    "    X_train_temp = X_train_full.drop(feature, axis=1)\n",
    "    X_val_temp = X_val.drop(feature, axis=1)\n",
    "    \n",
    "    # Preparar y encodear\n",
    "    train_dict_temp = prepare_X(X_train_temp)\n",
    "    val_dict_temp = prepare_X(X_val_temp)\n",
    "    \n",
    "    dv_temp = DictVectorizer(sparse=False)\n",
    "    X_train_encoded_temp = dv_temp.fit_transform(train_dict_temp)\n",
    "    X_val_encoded_temp = dv_temp.transform(val_dict_temp)\n",
    "    \n",
    "    # Entrenar modelo\n",
    "    model_temp = LogisticRegression(solver='liblinear', C=1.0, max_iter=1000, random_state=42)\n",
    "    model_temp.fit(X_train_encoded_temp, y_train_full)\n",
    "    \n",
    "    # Predecir y calcular accuracy\n",
    "    y_val_pred_temp = model_temp.predict(X_val_encoded_temp)\n",
    "    accuracy_temp = accuracy_score(y_val, y_val_pred_temp)\n",
    "    \n",
    "    # Calcular diferencia\n",
    "    diff = original_accuracy - accuracy_temp\n",
    "    accuracy_differences[feature] = diff\n",
    "    \n",
    "    print(f\"  Accuracy sin '{feature}': {accuracy_temp:.6f}\")\n",
    "    print(f\"  Diferencia: {diff:.6f}\")\n",
    "\n",
    "print(\"\\n\" + \"=\"*80)\n",
    "print(\"RESUMEN - Diferencias de accuracy:\")\n",
    "for feature, diff in sorted(accuracy_differences.items(), key=lambda x: abs(x[1])):\n",
    "    print(f\"{feature:25s}: {diff:.6f}\")\n",
    "\n",
    "# Encontrar feature con menor diferencia (en valor absoluto)\n",
    "min_diff_feature = min(accuracy_differences, key=lambda x: abs(accuracy_differences[x]))\n",
    "min_diff_value = accuracy_differences[min_diff_feature]\n",
    "\n",
    "print(f\"\\nRESPUESTA PREGUNTA 5: {min_diff_feature} tiene la menor diferencia: {min_diff_value:.6f}\")"
   ]
  },
  {
   "cell_type": "markdown",
   "id": "9e1569d2-cbd4-41aa-929d-e2fe3c7a2230",
   "metadata": {},
   "source": [
    "## Which of these C leads to the best accuracy on the validation set?"
   ]
  },
  {
   "cell_type": "code",
   "execution_count": 19,
   "id": "ba8e263b-1dd2-4e9b-89cf-a1a756e1e50f",
   "metadata": {},
   "outputs": [
    {
     "name": "stdout",
     "output_type": "stream",
     "text": [
      "\n",
      "Resultados por valor de C:\n",
      "----------------------------------------\n",
      "C =   0.01  ->  Accuracy = 0.743\n",
      "C =   0.10  ->  Accuracy = 0.743\n",
      "C =   1.00  ->  Accuracy = 0.743\n",
      "C =  10.00  ->  Accuracy = 0.743\n",
      "C = 100.00  ->  Accuracy = 0.743\n",
      "----------------------------------------\n",
      "\n",
      "RESPUESTA PREGUNTA 6: C = 0.01 da el mejor accuracy: 0.743\n"
     ]
    }
   ],
   "source": [
    "# Valores de C a probar\n",
    "C_values = [0.01, 0.1, 1, 10, 100]\n",
    "results = {}\n",
    "\n",
    "print(\"\\nResultados por valor de C:\")\n",
    "print(\"-\" * 40)\n",
    "\n",
    "for C in C_values:\n",
    "    # Entrenar modelo\n",
    "    model_reg = LogisticRegression(solver='liblinear', C=C, max_iter=1000, random_state=42)\n",
    "    model_reg.fit(X_train_encoded, y_train_full)\n",
    "    \n",
    "    # Predecir y calcular accuracy\n",
    "    y_val_pred_reg = model_reg.predict(X_val_encoded)\n",
    "    accuracy_reg = accuracy_score(y_val, y_val_pred_reg)\n",
    "    accuracy_reg_rounded = round(accuracy_reg, 3)\n",
    "    \n",
    "    results[C] = accuracy_reg_rounded\n",
    "    print(f\"C = {C:6.2f}  ->  Accuracy = {accuracy_reg_rounded:.3f}\")\n",
    "\n",
    "# Encontrar el mejor C (mayor accuracy, y si hay empate, el menor C)\n",
    "max_accuracy = max(results.values())\n",
    "best_C = min([c for c, acc in results.items() if acc == max_accuracy])\n",
    "\n",
    "print(\"-\" * 40)\n",
    "print(f\"\\nRESPUESTA PREGUNTA 6: C = {best_C} da el mejor accuracy: {max_accuracy:.3f}\")"
   ]
  },
  {
   "cell_type": "code",
   "execution_count": null,
   "id": "93049d2a-76be-4689-9768-c4746fcb55e9",
   "metadata": {},
   "outputs": [],
   "source": []
  }
 ],
 "metadata": {
  "kernelspec": {
   "display_name": "ml_zoomcamp",
   "language": "python",
   "name": "ml_zoomcamp"
  },
  "language_info": {
   "codemirror_mode": {
    "name": "ipython",
    "version": 3
   },
   "file_extension": ".py",
   "mimetype": "text/x-python",
   "name": "python",
   "nbconvert_exporter": "python",
   "pygments_lexer": "ipython3",
   "version": "3.11.13"
  }
 },
 "nbformat": 4,
 "nbformat_minor": 5
}
