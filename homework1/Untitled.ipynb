{
 "cells": [
  {
   "cell_type": "code",
   "execution_count": 21,
   "id": "fd276f0e-526a-4097-ba34-2092e8531b17",
   "metadata": {},
   "outputs": [],
   "source": [
    "import pandas as pd\n",
    "import numpy as np"
   ]
  },
  {
   "cell_type": "markdown",
   "id": "5e9c8e19-ff0c-4f72-b67d-8e35cb7b9026",
   "metadata": {},
   "source": [
    "#Question 1"
   ]
  },
  {
   "cell_type": "code",
   "execution_count": 45,
   "id": "a35f5b79-e0ef-43ac-81ac-2f58607b3a76",
   "metadata": {},
   "outputs": [
    {
     "data": {
      "text/plain": [
       "'2.3.2'"
      ]
     },
     "execution_count": 45,
     "metadata": {},
     "output_type": "execute_result"
    }
   ],
   "source": [
    "#Question 1\n",
    "pd.__version__"
   ]
  },
  {
   "cell_type": "code",
   "execution_count": 3,
   "id": "38b9205a-cdc0-431c-ac24-ce8f00d57826",
   "metadata": {},
   "outputs": [],
   "source": [
    "df = pd.read_csv(\"https://raw.githubusercontent.com/alexeygrigorev/datasets/master/car_fuel_efficiency.csv\")"
   ]
  },
  {
   "cell_type": "code",
   "execution_count": 44,
   "id": "08053cc6-4eea-4bc1-88f1-d029e6ef3fab",
   "metadata": {},
   "outputs": [
    {
     "data": {
      "text/plain": [
       "(9704, 11)"
      ]
     },
     "execution_count": 44,
     "metadata": {},
     "output_type": "execute_result"
    }
   ],
   "source": [
    "#Question 2 \n",
    "df.shape"
   ]
  },
  {
   "cell_type": "code",
   "execution_count": 41,
   "id": "5a2871c6-ac3a-4b52-817f-73ac6ade3ba2",
   "metadata": {},
   "outputs": [
    {
     "data": {
      "text/plain": [
       "fuel_type\n",
       "Gasoline    4898\n",
       "Diesel      4806\n",
       "Name: count, dtype: int64"
      ]
     },
     "execution_count": 41,
     "metadata": {},
     "output_type": "execute_result"
    }
   ],
   "source": [
    "#Question 3\n",
    "df[\"fuel_type\"].value_counts()"
   ]
  },
  {
   "cell_type": "code",
   "execution_count": 6,
   "id": "c78d3644-70ae-49c8-89f6-860f6b09f703",
   "metadata": {},
   "outputs": [
    {
     "data": {
      "text/plain": [
       "2"
      ]
     },
     "execution_count": 6,
     "metadata": {},
     "output_type": "execute_result"
    }
   ],
   "source": [
    "df[\"fuel_type\"].nunique()"
   ]
  },
  {
   "cell_type": "code",
   "execution_count": 46,
   "id": "119265fa-77b9-46ab-b654-f6d3a669d2c9",
   "metadata": {},
   "outputs": [
    {
     "data": {
      "text/plain": [
       "engine_displacement      0\n",
       "num_cylinders          482\n",
       "horsepower               0\n",
       "vehicle_weight           0\n",
       "acceleration           930\n",
       "model_year               0\n",
       "origin                   0\n",
       "fuel_type                0\n",
       "drivetrain               0\n",
       "num_doors              502\n",
       "fuel_efficiency_mpg      0\n",
       "dtype: int64"
      ]
     },
     "execution_count": 46,
     "metadata": {},
     "output_type": "execute_result"
    }
   ],
   "source": [
    "#Question 4\n",
    "df.isna().sum()"
   ]
  },
  {
   "cell_type": "code",
   "execution_count": 8,
   "id": "28fee06e-67b5-4a85-b6cd-eefd82171903",
   "metadata": {},
   "outputs": [],
   "source": [
    "max_eficiencia_asia = df[df['origin'] == 'Asia']['fuel_efficiency_mpg'].max()"
   ]
  },
  {
   "cell_type": "code",
   "execution_count": 9,
   "id": "dd3a3c7f-2bd2-4002-adc2-099456f2f04e",
   "metadata": {},
   "outputs": [
    {
     "name": "stdout",
     "output_type": "stream",
     "text": [
      "23.759122836520497\n"
     ]
    }
   ],
   "source": [
    "print(max_eficiencia_asia)"
   ]
  },
  {
   "cell_type": "code",
   "execution_count": 10,
   "id": "9ea2e816-d204-407c-a459-c68fcf2d6c1b",
   "metadata": {},
   "outputs": [],
   "source": [
    "median = df[\"horsepower\"].median()\n",
    "moda = df[\"horsepower\"].mode()[0]"
   ]
  },
  {
   "cell_type": "code",
   "execution_count": 11,
   "id": "fed91d9e-3bbb-4bf9-ac84-97b855fcfd93",
   "metadata": {},
   "outputs": [
    {
     "name": "stdout",
     "output_type": "stream",
     "text": [
      "149.0 152.0\n"
     ]
    }
   ],
   "source": [
    "print(median, moda)"
   ]
  },
  {
   "cell_type": "code",
   "execution_count": 12,
   "id": "7184341d-3b00-4e2a-8c4a-24308213777f",
   "metadata": {},
   "outputs": [],
   "source": [
    "df['horsepower'] = df[\"horsepower\"].fillna(moda)"
   ]
  },
  {
   "cell_type": "code",
   "execution_count": 13,
   "id": "696e964a-278e-4710-892c-f61d8e21c207",
   "metadata": {},
   "outputs": [
    {
     "data": {
      "text/plain": [
       "0       159.0\n",
       "1        97.0\n",
       "2        78.0\n",
       "3       152.0\n",
       "4       140.0\n",
       "        ...  \n",
       "9699    164.0\n",
       "9700    154.0\n",
       "9701    138.0\n",
       "9702    177.0\n",
       "9703    140.0\n",
       "Name: horsepower, Length: 9704, dtype: float64"
      ]
     },
     "execution_count": 13,
     "metadata": {},
     "output_type": "execute_result"
    }
   ],
   "source": [
    "df['horsepower']"
   ]
  },
  {
   "cell_type": "code",
   "execution_count": 14,
   "id": "838e1ea6-8875-4dbe-b6d5-c822345d89e1",
   "metadata": {},
   "outputs": [
    {
     "name": "stdout",
     "output_type": "stream",
     "text": [
      "152.0\n"
     ]
    }
   ],
   "source": [
    "print(df[\"horsepower\"].median())"
   ]
  },
  {
   "cell_type": "code",
   "execution_count": 18,
   "id": "c0cce36e-4031-410d-946e-51113ef95316",
   "metadata": {},
   "outputs": [],
   "source": [
    "cars = df[df['origin'] == 'Asia'][['vehicle_weight', 'model_year']]"
   ]
  },
  {
   "cell_type": "code",
   "execution_count": 24,
   "id": "39b0dc93-6dbd-4285-a802-056d44c0caa7",
   "metadata": {},
   "outputs": [],
   "source": [
    "X_df = cars.head(7)"
   ]
  },
  {
   "cell_type": "code",
   "execution_count": 26,
   "id": "dc6bc95a-92ae-4942-b8f8-c57be2314439",
   "metadata": {},
   "outputs": [],
   "source": [
    "X = X_df.values"
   ]
  },
  {
   "cell_type": "code",
   "execution_count": 27,
   "id": "f6bbadb3-bdb0-4389-ab9b-b01ed81411b1",
   "metadata": {},
   "outputs": [
    {
     "data": {
      "text/plain": [
       "array([[2714.21930965, 2016.        ],\n",
       "       [2783.86897424, 2010.        ],\n",
       "       [3582.68736772, 2007.        ],\n",
       "       [2231.8081416 , 2011.        ],\n",
       "       [2659.43145076, 2016.        ],\n",
       "       [2844.22753389, 2014.        ],\n",
       "       [3761.99403819, 2019.        ]])"
      ]
     },
     "execution_count": 27,
     "metadata": {},
     "output_type": "execute_result"
    }
   ],
   "source": [
    "X"
   ]
  },
  {
   "cell_type": "code",
   "execution_count": 28,
   "id": "31409cab-8b52-4163-8fa0-c9506d25b6c5",
   "metadata": {},
   "outputs": [],
   "source": [
    "XTX = X.T.dot(X)"
   ]
  },
  {
   "cell_type": "code",
   "execution_count": 31,
   "id": "4f415919-75c8-4bcd-8cba-182eddb30a89",
   "metadata": {},
   "outputs": [
    {
     "name": "stdout",
     "output_type": "stream",
     "text": [
      "\n",
      "Matriz XTX:\n",
      "[[62248334.33150762 41431216.5073268 ]\n",
      " [41431216.5073268  28373339.        ]]\n",
      "Shape de XTX: (2, 2)\n"
     ]
    }
   ],
   "source": [
    "print(\"\\nMatriz XTX:\")\n",
    "print(XTX)\n",
    "print(f\"Shape de XTX: {XTX.shape}\")"
   ]
  },
  {
   "cell_type": "code",
   "execution_count": 34,
   "id": "7ea829f7-0ebc-49a1-866d-e3685c2a4252",
   "metadata": {},
   "outputs": [],
   "source": [
    "XTX_inv = np.linalg.inv(XTX)"
   ]
  },
  {
   "cell_type": "code",
   "execution_count": 33,
   "id": "1c0496c3-b07a-439b-a771-802430a8fe85",
   "metadata": {},
   "outputs": [],
   "source": [
    "y = np.array([1100, 1300, 800, 900, 1000, 1100, 1200])"
   ]
  },
  {
   "cell_type": "code",
   "execution_count": 35,
   "id": "42df9af4-55b2-44e6-aae4-9f5db1f2c856",
   "metadata": {},
   "outputs": [
    {
     "data": {
      "text/plain": [
       "array([[ 5.71497081e-07, -8.34509443e-07],\n",
       "       [-8.34509443e-07,  1.25380877e-06]])"
      ]
     },
     "execution_count": 35,
     "metadata": {},
     "output_type": "execute_result"
    }
   ],
   "source": [
    "XTX_inv"
   ]
  },
  {
   "cell_type": "code",
   "execution_count": 37,
   "id": "9d73dfe5",
   "metadata": {},
   "outputs": [],
   "source": [
    "temp = XTX_inv.dot(X.T)"
   ]
  },
  {
   "cell_type": "code",
   "execution_count": 38,
   "id": "0a4fc193-9f76-42f1-8149-4e279e985094",
   "metadata": {},
   "outputs": [],
   "source": [
    "w = temp.dot(y)"
   ]
  },
  {
   "cell_type": "code",
   "execution_count": 39,
   "id": "5c2a3c9c-d089-4f17-af21-08f114bc72bb",
   "metadata": {},
   "outputs": [],
   "source": [
    "suma_w = np.sum(w)"
   ]
  },
  {
   "cell_type": "code",
   "execution_count": 40,
   "id": "3d19cf99-9aea-4f73-b1b4-b55c9b80f739",
   "metadata": {},
   "outputs": [
    {
     "data": {
      "text/plain": [
       "np.float64(0.5187709081074016)"
      ]
     },
     "execution_count": 40,
     "metadata": {},
     "output_type": "execute_result"
    }
   ],
   "source": [
    "suma_w"
   ]
  },
  {
   "cell_type": "code",
   "execution_count": null,
   "id": "a0975592-d511-4b5e-8be1-391c7298734f",
   "metadata": {},
   "outputs": [],
   "source": []
  }
 ],
 "metadata": {
  "kernelspec": {
   "display_name": "ml_zoomcamp",
   "language": "python",
   "name": "ml_zoomcamp"
  },
  "language_info": {
   "codemirror_mode": {
    "name": "ipython",
    "version": 3
   },
   "file_extension": ".py",
   "mimetype": "text/x-python",
   "name": "python",
   "nbconvert_exporter": "python",
   "pygments_lexer": "ipython3",
   "version": "3.11.13"
  }
 },
 "nbformat": 4,
 "nbformat_minor": 5
}
